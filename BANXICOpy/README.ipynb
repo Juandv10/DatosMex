{
 "cells": [
  {
   "cell_type": "markdown",
   "id": "36377bc5-1a14-4365-b7c8-714b83d7c242",
   "metadata": {},
   "source": [
    "# BanxicoPy"
   ]
  },
  {
   "cell_type": "markdown",
   "id": "958c99f7-94bb-4b82-96ee-0d9b9cfb188c",
   "metadata": {},
   "source": [
    "BanxicoPy es una librería para interactuar fácilmente con los datos del [Sistema de Información Económica](https://www.banxico.org.mx/SieInternet/) del Banco de México desde Python. Su propósito es apoyar en la creación de consultas automatizadas y en el acceso a la información para el análisis de datos.\n",
    "\n",
    "Actualmente consiste de solo tres métodos que engloban las funciones disponibles en la API: consulta de series de tiempo, consulta de metadatos y consulta del último dato disponible para todos los indicadores en el repositorio. Cada uno regresa un DataFrame con el resultado de la consulta listo para su uso en Python. También se encuentra en construcción un módulo de Series dedicado a consultas automatizadas de los principales indicadores como las tasas de interés, tipos de cambio, subastas y finanzas públicas.\n",
    "\n",
    "Para más información y consulta de los indicadores disponibles visita: https://www.banxico.org.mx/SieAPIRest/service/v1/"
   ]
  },
  {
   "cell_type": "markdown",
   "id": "7ab18617-98b5-429e-a3ba-7f3cdd2a5c07",
   "metadata": {},
   "source": [
    "## Requerimientos\n",
    "\n",
    "* requests\n",
    "* pandas"
   ]
  },
  {
   "cell_type": "markdown",
   "id": "1d91f62e-32b3-41da-b8b0-feda8acf4963",
   "metadata": {},
   "source": [
    "## Instalación \n",
    "\n",
    "\n",
    "```pip install BanxicoPy```"
   ]
  },
  {
   "cell_type": "markdown",
   "id": "84b2a7a7-5a7a-42ba-87ee-fe6185343e78",
   "metadata": {},
   "source": [
    "## Documentación\n",
    "\n",
    "```python\n",
    "class Banxico(token)\n",
    "```\n",
    "\n",
    "**Parámetros** \n",
    "   * **token:** str. Token proporcionado por el Banco de México.\n",
    "   \n",
    "La clase ```Banxico``` contiene los métodos y atributos relacionados a la API del Sistema de Información Económica del Banco de México. Esta API permite consultar los datos y metadatos de los indicadores económicos y financieros disponibles en el repositorio. Las claves de los indicadores y más información sobre la API se pueden obtener en el [catálogo de series](https://www.banxico.org.mx/SieAPIRest/service/v1/doc/catalogoSeries). Esta clase requiere un [token generado por el Banco de México](https://www.banxico.org.mx/SieAPIRest/service/v1/token).\n"
   ]
  },
  {
   "cell_type": "markdown",
   "id": "0129cd84-5606-4376-871f-f09f5c1f6035",
   "metadata": {},
   "source": [
    "### Métodos\n",
    "\n",
    "#### obtener_serie()\n",
    "\n",
    "```python\n",
    "Banxico.obtener_df(indicadores, \n",
    "                   nombres = None, \n",
    "                   inicio = None, \n",
    "                   fin = None,\n",
    "                   decimales = True,\n",
    "                   incremento = None)\n",
    "```\n",
    "**Parámetros**\n",
    "* **indicadores:** str/list. Clave(s) de los indicadores a consultar. Puede ser hasta un máximo de 20 indicadores a la vez.\n",
    "* **nombres:** str/list. Nombre(s) de las columas del DataFrame. De no proporcionarse se usarán los indicadores. \n",
    "* **inicio:** str. Fecha donde iniciar la serie en formato YYYY(-MM-DD). De no proporcionarse será desde el primer valor disponible. \n",
    "* **fin:** str. Fecha donde terminar la serie en formato YYYY(-MM-DD). De no proporcionarse será hasta el último valor disponible.\n",
    "* **decimales:** bool. En caso de ser verdadero regresa la serie con todos los decimales. Si es falso elimina los ceros decimales al final del punto decimal (los menos significativos).\n",
    "* **incremento:** str, opcional. En caso de definir alguna de las opciones regresa la serie como el incremento porcentual de alguna observación previa. Las opciones disponibles son las siguientes:\n",
    "                        PorcObsAnt: Porcentaje de incremento con respecto a la observación anterior.\n",
    "                        PorcAnual: Porcentaje de incremento con respecto a la misma observación del año anterior.\n",
    "                        PorcAcumAnual: Porcentaje de incremento con respecto a la última observación del año anterior.\n",
    "\n",
    "Regresa un DataFrame con los datos de los indicadores proporcionados por la API de Banxico. El DataFrame resultante tiene una columna por cada indicador y un DateTimeIndex con la fecha de los valores. \n",
    "        \n",
    "Nota: esta función concatena todos los indicadores en un solo DataFrame por lo que es recomendable usarla para varias series con una misma frecuencia. En caso de no querer concatenar las series se debe usar un indicador a la vez.  \n",
    "\n",
    "##### metadatos()\n",
    "\n",
    "```python\n",
    "Banxico.metadatos(indicadores)\n",
    "```\n",
    "**Parámetros**\n",
    "* **indicadores:** str/list. Clave(s) de los indicadores a consultar. Puede ser hasta un máximo de 20 indicadores a la vez.\n",
    "\n",
    "Regresa un DataFrame con los metadatos de los indicadores.\n",
    "\n",
    "##### dato_oportuno()\n",
    "\n",
    "```python\n",
    "Banxico.dato_oportuno(indicadores, \n",
    "                      nombres = None,\n",
    "                      decimales = True\n",
    "                      incremento = None)\n",
    "```\n",
    "**Parámetros**\n",
    "* **indicadores:** str/list. Clave(s) de los indicadores a consultar. Puede ser hasta un máximo de 20 indicadores a la vez.\n",
    "* **nombres:** str/list. Nombre(s) de las columas del DataFrame. De no proporcionarse se usarán los indicadores. \n",
    "* **decimales:** bool. En caso de ser verdadero regresa la serie con todos los decimales. Si es falso elimina los ceros decimales al final del punto decimal (los menos significativos).\n",
    "* **incremento:** str, opcional. En caso de definir alguna de las opciones regresa la serie como el incremento porcentual de alguna observación previa. Las opciones disponibles son las siguientes:\n",
    "                        PorcObsAnt: Porcentaje de incremento con respecto a la observación anterior.\n",
    "                        PorcAnual: Porcentaje de incremento con respecto a la misma observación del año anterior.\n",
    "                        PorcAcumAnual: Porcentaje de incremento con respecto a la última observación del año anterior.\n",
    "\n",
    "Regresa un DataFrame con el último dato de los indicadores proporcionados por la API de Banxico.\n",
    "        \n",
    "Nota: esta función concatena todos los indicadores en un solo DataFrame por lo que es recomendable usarla para varias series con una misma frecuencia. En caso de no querer concatenar las series se debe usar un indicador a la vez. "
   ]
  },
  {
   "cell_type": "markdown",
   "id": "4efa61ff-7d25-43a8-9c8d-9e806c7edc1a",
   "metadata": {},
   "source": [
    "## Uso"
   ]
  },
  {
   "cell_type": "code",
   "execution_count": 1,
   "id": "252af5e0-820d-4236-a791-197a30880f16",
   "metadata": {},
   "outputs": [],
   "source": [
    "# uso actual\n",
    "\n",
    "from BANXICOpy import Banxico"
   ]
  },
  {
   "cell_type": "code",
   "execution_count": 2,
   "id": "295aa91d-7ae9-4124-a1f8-d1b0de23b532",
   "metadata": {},
   "outputs": [],
   "source": [
    "token = '274066f5ed9caabbbbe6417dae8d4359f06ac5c853619436d9c82d55ed58fe83'\n",
    "bmx = Banxico(token)"
   ]
  },
  {
   "cell_type": "code",
   "execution_count": 3,
   "id": "3703e395-d80c-4df8-8e10-dd83c5c07555",
   "metadata": {},
   "outputs": [
    {
     "data": {
      "text/html": [
       "<div>\n",
       "<style scoped>\n",
       "    .dataframe tbody tr th:only-of-type {\n",
       "        vertical-align: middle;\n",
       "    }\n",
       "\n",
       "    .dataframe tbody tr th {\n",
       "        vertical-align: top;\n",
       "    }\n",
       "\n",
       "    .dataframe thead th {\n",
       "        text-align: right;\n",
       "    }\n",
       "</style>\n",
       "<table border=\"1\" class=\"dataframe\">\n",
       "  <thead>\n",
       "    <tr style=\"text-align: right;\">\n",
       "      <th></th>\n",
       "      <th>Tasa Objetivo</th>\n",
       "      <th>UDIS</th>\n",
       "      <th>Tipo de Cambio</th>\n",
       "    </tr>\n",
       "    <tr>\n",
       "      <th>fecha</th>\n",
       "      <th></th>\n",
       "      <th></th>\n",
       "      <th></th>\n",
       "    </tr>\n",
       "  </thead>\n",
       "  <tbody>\n",
       "    <tr>\n",
       "      <th>2017-05-13</th>\n",
       "      <td>NaN</td>\n",
       "      <td>6.5</td>\n",
       "      <td>5.745952</td>\n",
       "    </tr>\n",
       "    <tr>\n",
       "      <th>2017-05-14</th>\n",
       "      <td>NaN</td>\n",
       "      <td>6.5</td>\n",
       "      <td>5.746996</td>\n",
       "    </tr>\n",
       "    <tr>\n",
       "      <th>2017-05-15</th>\n",
       "      <td>18.6700</td>\n",
       "      <td>6.5</td>\n",
       "      <td>5.748040</td>\n",
       "    </tr>\n",
       "    <tr>\n",
       "      <th>2017-05-16</th>\n",
       "      <td>18.6183</td>\n",
       "      <td>6.5</td>\n",
       "      <td>5.749085</td>\n",
       "    </tr>\n",
       "    <tr>\n",
       "      <th>2017-05-17</th>\n",
       "      <td>18.6761</td>\n",
       "      <td>6.5</td>\n",
       "      <td>5.750129</td>\n",
       "    </tr>\n",
       "  </tbody>\n",
       "</table>\n",
       "</div>"
      ],
      "text/plain": [
       "            Tasa Objetivo  UDIS  Tipo de Cambio\n",
       "fecha                                          \n",
       "2017-05-13            NaN   6.5        5.745952\n",
       "2017-05-14            NaN   6.5        5.746996\n",
       "2017-05-15        18.6700   6.5        5.748040\n",
       "2017-05-16        18.6183   6.5        5.749085\n",
       "2017-05-17        18.6761   6.5        5.750129"
      ]
     },
     "execution_count": 3,
     "metadata": {},
     "output_type": "execute_result"
    }
   ],
   "source": [
    "indicadores = [\"SF61745\", \"SP68257\", \"SF43718\"]\n",
    "nombres = [\"Tasa Objetivo\", \"UDIS\", \"Tipo de Cambio\"]\n",
    "df = bmx.obtener_series(indicadores, nombres, inicio = '2017-05-13')\n",
    "df.head()"
   ]
  },
  {
   "cell_type": "code",
   "execution_count": 4,
   "id": "401eadf7-4527-4f63-a994-311315b95582",
   "metadata": {},
   "outputs": [
    {
     "data": {
      "text/html": [
       "<div>\n",
       "<style scoped>\n",
       "    .dataframe tbody tr th:only-of-type {\n",
       "        vertical-align: middle;\n",
       "    }\n",
       "\n",
       "    .dataframe tbody tr th {\n",
       "        vertical-align: top;\n",
       "    }\n",
       "\n",
       "    .dataframe thead th {\n",
       "        text-align: right;\n",
       "    }\n",
       "</style>\n",
       "<table border=\"1\" class=\"dataframe\">\n",
       "  <thead>\n",
       "    <tr style=\"text-align: right;\">\n",
       "      <th></th>\n",
       "      <th>Base Monetaria</th>\n",
       "    </tr>\n",
       "    <tr>\n",
       "      <th>fecha</th>\n",
       "      <th></th>\n",
       "    </tr>\n",
       "  </thead>\n",
       "  <tbody>\n",
       "    <tr>\n",
       "      <th>2020-01-01</th>\n",
       "      <td>4.08</td>\n",
       "    </tr>\n",
       "    <tr>\n",
       "      <th>2020-01-02</th>\n",
       "      <td>4.37</td>\n",
       "    </tr>\n",
       "    <tr>\n",
       "      <th>2020-01-03</th>\n",
       "      <td>4.47</td>\n",
       "    </tr>\n",
       "    <tr>\n",
       "      <th>2020-01-04</th>\n",
       "      <td>4.87</td>\n",
       "    </tr>\n",
       "    <tr>\n",
       "      <th>2020-01-05</th>\n",
       "      <td>4.87</td>\n",
       "    </tr>\n",
       "  </tbody>\n",
       "</table>\n",
       "</div>"
      ],
      "text/plain": [
       "            Base Monetaria\n",
       "fecha                     \n",
       "2020-01-01            4.08\n",
       "2020-01-02            4.37\n",
       "2020-01-03            4.47\n",
       "2020-01-04            4.87\n",
       "2020-01-05            4.87"
      ]
     },
     "execution_count": 4,
     "metadata": {},
     "output_type": "execute_result"
    }
   ],
   "source": [
    "base = bmx.obtener_series('SF44043', 'Base Monetaria', inicio = '2020', incremento='PorcAnual')\n",
    "base.head()"
   ]
  },
  {
   "cell_type": "code",
   "execution_count": 5,
   "id": "a45ab453-7c39-4888-9ddd-d5239dd16635",
   "metadata": {},
   "outputs": [
    {
     "data": {
      "text/html": [
       "<div>\n",
       "<style scoped>\n",
       "    .dataframe tbody tr th:only-of-type {\n",
       "        vertical-align: middle;\n",
       "    }\n",
       "\n",
       "    .dataframe tbody tr th {\n",
       "        vertical-align: top;\n",
       "    }\n",
       "\n",
       "    .dataframe thead th {\n",
       "        text-align: right;\n",
       "    }\n",
       "</style>\n",
       "<table border=\"1\" class=\"dataframe\">\n",
       "  <thead>\n",
       "    <tr style=\"text-align: right;\">\n",
       "      <th></th>\n",
       "      <th>idSerie</th>\n",
       "      <th>titulo</th>\n",
       "      <th>fechaInicio</th>\n",
       "      <th>fechaFin</th>\n",
       "      <th>periodicidad</th>\n",
       "      <th>cifra</th>\n",
       "      <th>unidad</th>\n",
       "      <th>versionada</th>\n",
       "    </tr>\n",
       "  </thead>\n",
       "  <tbody>\n",
       "    <tr>\n",
       "      <th>0</th>\n",
       "      <td>SP68257</td>\n",
       "      <td>Valor de UDIS</td>\n",
       "      <td>04/04/1995</td>\n",
       "      <td>10/08/2022</td>\n",
       "      <td>Diaria</td>\n",
       "      <td>Tipo de Cambio</td>\n",
       "      <td>Unidades de Inversión</td>\n",
       "      <td>False</td>\n",
       "    </tr>\n",
       "    <tr>\n",
       "      <th>1</th>\n",
       "      <td>SF61745</td>\n",
       "      <td>Tasa objetivo</td>\n",
       "      <td>21/01/2008</td>\n",
       "      <td>04/08/2022</td>\n",
       "      <td>Diaria</td>\n",
       "      <td>Porcentajes</td>\n",
       "      <td>Sin Unidad</td>\n",
       "      <td>False</td>\n",
       "    </tr>\n",
       "    <tr>\n",
       "      <th>2</th>\n",
       "      <td>SF43718</td>\n",
       "      <td>Tipo de cambio                                ...</td>\n",
       "      <td>12/11/1991</td>\n",
       "      <td>03/08/2022</td>\n",
       "      <td>Diaria</td>\n",
       "      <td>Tipo de Cambio</td>\n",
       "      <td>Pesos por Dólar</td>\n",
       "      <td>False</td>\n",
       "    </tr>\n",
       "  </tbody>\n",
       "</table>\n",
       "</div>"
      ],
      "text/plain": [
       "   idSerie                                             titulo fechaInicio  \\\n",
       "0  SP68257                                      Valor de UDIS  04/04/1995   \n",
       "1  SF61745                                      Tasa objetivo  21/01/2008   \n",
       "2  SF43718  Tipo de cambio                                ...  12/11/1991   \n",
       "\n",
       "     fechaFin periodicidad           cifra                 unidad  versionada  \n",
       "0  10/08/2022       Diaria  Tipo de Cambio  Unidades de Inversión       False  \n",
       "1  04/08/2022       Diaria     Porcentajes             Sin Unidad       False  \n",
       "2  03/08/2022       Diaria  Tipo de Cambio        Pesos por Dólar       False  "
      ]
     },
     "execution_count": 5,
     "metadata": {},
     "output_type": "execute_result"
    }
   ],
   "source": [
    "metadatos = bmx.metadatos(indicadores)\n",
    "metadatos"
   ]
  },
  {
   "cell_type": "code",
   "execution_count": 9,
   "id": "20d8d8cb-0bd3-431b-b82b-07c52405c47a",
   "metadata": {},
   "outputs": [
    {
     "data": {
      "text/html": [
       "<div>\n",
       "<style scoped>\n",
       "    .dataframe tbody tr th:only-of-type {\n",
       "        vertical-align: middle;\n",
       "    }\n",
       "\n",
       "    .dataframe tbody tr th {\n",
       "        vertical-align: top;\n",
       "    }\n",
       "\n",
       "    .dataframe thead th {\n",
       "        text-align: right;\n",
       "    }\n",
       "</style>\n",
       "<table border=\"1\" class=\"dataframe\">\n",
       "  <thead>\n",
       "    <tr style=\"text-align: right;\">\n",
       "      <th></th>\n",
       "      <th>tasa_objetivo</th>\n",
       "    </tr>\n",
       "    <tr>\n",
       "      <th>fecha</th>\n",
       "      <th></th>\n",
       "    </tr>\n",
       "  </thead>\n",
       "  <tbody>\n",
       "    <tr>\n",
       "      <th>2022-08-04</th>\n",
       "      <td>40.91</td>\n",
       "    </tr>\n",
       "  </tbody>\n",
       "</table>\n",
       "</div>"
      ],
      "text/plain": [
       "            tasa_objetivo\n",
       "fecha                    \n",
       "2022-08-04          40.91"
      ]
     },
     "execution_count": 9,
     "metadata": {},
     "output_type": "execute_result"
    }
   ],
   "source": [
    "bmx.dato_oportuno(\"SF61745\", 'tasa_objetivo', incremento='PorcAcumAnual')"
   ]
  }
 ],
 "metadata": {
  "kernelspec": {
   "display_name": "Python 3 (ipykernel)",
   "language": "python",
   "name": "python3"
  },
  "language_info": {
   "codemirror_mode": {
    "name": "ipython",
    "version": 3
   },
   "file_extension": ".py",
   "mimetype": "text/x-python",
   "name": "python",
   "nbconvert_exporter": "python",
   "pygments_lexer": "ipython3",
   "version": "3.9.7"
  }
 },
 "nbformat": 4,
 "nbformat_minor": 5
}

{
 "cells": [
  {
   "cell_type": "markdown",
   "id": "36377bc5-1a14-4365-b7c8-714b83d7c242",
   "metadata": {},
   "source": [
    "# BanxicoPy"
   ]
  },
  {
   "cell_type": "markdown",
   "id": "958c99f7-94bb-4b82-96ee-0d9b9cfb188c",
   "metadata": {},
   "source": [
    "BanxicoPy es una librería para interactuar fácilmente con los datos del [Sistema de Información Económica](https://www.banxico.org.mx/SieInternet/) del Banco de México desde Python. Su propósito es apoyar en la creación de consultas automatizadas y en el acceso a la información para el análisis de datos."
   ]
  },
  {
   "cell_type": "code",
   "execution_count": null,
   "id": "27b62d0e-12ff-4f79-89a6-07458e9fa6b3",
   "metadata": {},
   "outputs": [],
   "source": []
  }
 ],
 "metadata": {
  "kernelspec": {
   "display_name": "Python 3 (ipykernel)",
   "language": "python",
   "name": "python3"
  },
  "language_info": {
   "codemirror_mode": {
    "name": "ipython",
    "version": 3
   },
   "file_extension": ".py",
   "mimetype": "text/x-python",
   "name": "python",
   "nbconvert_exporter": "python",
   "pygments_lexer": "ipython3",
   "version": "3.9.7"
  }
 },
 "nbformat": 4,
 "nbformat_minor": 5
}
